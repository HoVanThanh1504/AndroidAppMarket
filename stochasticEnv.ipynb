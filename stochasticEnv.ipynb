{
  "nbformat": 4,
  "nbformat_minor": 0,
  "metadata": {
    "colab": {
      "provenance": [],
      "authorship_tag": "ABX9TyMLQvkkBIQ/PZKnITdrqFDU",
      "include_colab_link": true
    },
    "kernelspec": {
      "name": "python3",
      "display_name": "Python 3"
    },
    "language_info": {
      "name": "python"
    }
  },
  "cells": [
    {
      "cell_type": "markdown",
      "metadata": {
        "id": "view-in-github",
        "colab_type": "text"
      },
      "source": [
        "<a href=\"https://colab.research.google.com/github/HoVanThanh1504/AndroidAppMarket/blob/main/stochasticEnv.ipynb\" target=\"_parent\"><img src=\"https://colab.research.google.com/assets/colab-badge.svg\" alt=\"Open In Colab\"/></a>"
      ]
    },
    {
      "cell_type": "code",
      "execution_count": 3,
      "metadata": {
        "colab": {
          "base_uri": "https://localhost:8080/"
        },
        "id": "2yW2vRhvlaP1",
        "outputId": "0286f870-2cae-4197-9334-ff76ad9c343d"
      },
      "outputs": [
        {
          "output_type": "stream",
          "name": "stdout",
          "text": [
            "Looking in indexes: https://pypi.org/simple, https://us-python.pkg.dev/colab-wheels/public/simple/\n",
            "Collecting gymnasium\n",
            "  Downloading gymnasium-0.27.1-py3-none-any.whl (883 kB)\n",
            "\u001b[2K     \u001b[90m━━━━━━━━━━━━━━━━━━━━━━━━━━━━━━━━━━━━━━\u001b[0m \u001b[32m883.7/883.7 KB\u001b[0m \u001b[31m24.0 MB/s\u001b[0m eta \u001b[36m0:00:00\u001b[0m\n",
            "\u001b[?25hRequirement already satisfied: matplotlib in /usr/local/lib/python3.8/dist-packages (3.5.3)\n",
            "Requirement already satisfied: numpy in /usr/local/lib/python3.8/dist-packages (1.22.4)\n",
            "Collecting gymnasium-notices>=0.0.1\n",
            "  Downloading gymnasium_notices-0.0.1-py3-none-any.whl (2.8 kB)\n",
            "Collecting jax-jumpy>=0.2.0\n",
            "  Downloading jax_jumpy-0.2.0-py3-none-any.whl (11 kB)\n",
            "Requirement already satisfied: cloudpickle>=1.2.0 in /usr/local/lib/python3.8/dist-packages (from gymnasium) (2.2.1)\n",
            "Requirement already satisfied: importlib-metadata>=4.8.0 in /usr/local/lib/python3.8/dist-packages (from gymnasium) (6.0.0)\n",
            "Requirement already satisfied: typing-extensions>=4.3.0 in /usr/local/lib/python3.8/dist-packages (from gymnasium) (4.5.0)\n",
            "Requirement already satisfied: pillow>=6.2.0 in /usr/local/lib/python3.8/dist-packages (from matplotlib) (8.4.0)\n",
            "Requirement already satisfied: kiwisolver>=1.0.1 in /usr/local/lib/python3.8/dist-packages (from matplotlib) (1.4.4)\n",
            "Requirement already satisfied: fonttools>=4.22.0 in /usr/local/lib/python3.8/dist-packages (from matplotlib) (4.38.0)\n",
            "Requirement already satisfied: python-dateutil>=2.7 in /usr/local/lib/python3.8/dist-packages (from matplotlib) (2.8.2)\n",
            "Requirement already satisfied: packaging>=20.0 in /usr/local/lib/python3.8/dist-packages (from matplotlib) (23.0)\n",
            "Requirement already satisfied: pyparsing>=2.2.1 in /usr/local/lib/python3.8/dist-packages (from matplotlib) (3.0.9)\n",
            "Requirement already satisfied: cycler>=0.10 in /usr/local/lib/python3.8/dist-packages (from matplotlib) (0.11.0)\n",
            "Requirement already satisfied: zipp>=0.5 in /usr/local/lib/python3.8/dist-packages (from importlib-metadata>=4.8.0->gymnasium) (3.15.0)\n",
            "Requirement already satisfied: six>=1.5 in /usr/local/lib/python3.8/dist-packages (from python-dateutil>=2.7->matplotlib) (1.15.0)\n",
            "Installing collected packages: gymnasium-notices, jax-jumpy, gymnasium\n",
            "Successfully installed gymnasium-0.27.1 gymnasium-notices-0.0.1 jax-jumpy-0.2.0\n"
          ]
        }
      ],
      "source": [
        "!pip install gymnasium matplotlib numpy"
      ]
    },
    {
      "cell_type": "code",
      "source": [
        "from google.colab import widgets\n",
        "import gymnasium as gym\n",
        "from gymnasium import spaces\n",
        "import matplotlib.pyplot as plt\n",
        "import numpy as np\n",
        "import time"
      ],
      "metadata": {
        "id": "6XguBh1HqDXY"
      },
      "execution_count": 4,
      "outputs": []
    },
    {
      "cell_type": "code",
      "source": [
        "class GridEnvironment(gym.Env):\n",
        "    def __init__(self):\n",
        "        self.observation_space = spaces.Discrete(20)\n",
        "        self.action_space = spaces.Discrete(4)\n",
        "        self.max_timesteps = 40\n",
        "        self.reward = 0\n",
        "        self.timestep = 0\n",
        "        self.agent_pos = [0, 0]\n",
        "        self.goal_pos = [np.random.randint(2), np.random.randint(20)]\n",
        "        self.state = np.zeros((2, self.observation_space.n)) # obs\n",
        "        self.state[tuple(self.goal_pos)] = 0.8 # choose color\n",
        "        self.state[tuple(self.agent_pos)] = 1\n",
        "        \n",
        "    def reset(self, **kwargs):\n",
        "        self.state = np.zeros((2, 20))\n",
        "        self.state[tuple(self.goal_pos)] = 0.8 # choose color\n",
        "        self.state[tuple(self.agent_pos)] = 1\n",
        "        obs = self.state.flatten()\n",
        "        return obs\n",
        "    def step(self, action):\n",
        "        reward = 0\n",
        "        if action == 0: # go left\n",
        "          if self.agent_pos[1] > 0:\n",
        "            self.agent_pos[1] -= 1\n",
        "          else: \n",
        "            dice = np.random.randint(1, 7)\n",
        "            if dice > 1:\n",
        "              self.reward += 10\n",
        "            else:\n",
        "              self.reward -= 10\n",
        "        if action == 1: # go right\n",
        "          if self.agent_pos[1] % 5 == 0:\n",
        "            dice = np.random.randint(1, 7)\n",
        "            if dice > 1:\n",
        "              self.reward += 10\n",
        "              self.agent_pos[1] += 1\n",
        "            else:\n",
        "              self.reward -= 10\n",
        "        if action == 2: # go up\n",
        "          if self.agent_pos[0] >= 1:\n",
        "            dice = np.random.randint(1, 7)\n",
        "            if dice > 1:\n",
        "              self.reward += 10\n",
        "            else:\n",
        "              self.reward -= 20\n",
        "          else: \n",
        "            self.agent_pos[0] += 1\n",
        "        if action == 3: # go down\n",
        "          if self.agent_pos[0] <= 0:\n",
        "            dice = np.random.randint(1, 7)\n",
        "            if dice > 1:\n",
        "              self.reward += 10\n",
        "            else:\n",
        "              self.reward -= 20\n",
        "          else: \n",
        "            self.agent_pos[0] -= 1\n",
        "\n",
        "        self.state = np.zeros((2, 20))\n",
        "        self.state[tuple(self.goal_pos)] = 0.8 # choose color\n",
        "        self.state[tuple(self.agent_pos)] = 1 # choose color\n",
        "        \n",
        "        next_state = self.agent_pos.flatten()\n",
        "        finish = False\n",
        "        if np.array_equal(self.agent_pos, self.goal_pos):\n",
        "          self.reward += 100\n",
        "          finish = True\n",
        "        \n",
        "        self.timestep += 1\n",
        "\n",
        "        terminated = True if self.timestep >= self.max_timesteps else False\n",
        "        \n",
        "        return next_state, reward, terminated, finish#reward, terminated, finish #next_state, reward, terminated, finish\n",
        "        \n",
        "    def render(self):\n",
        "        plt.imshow(self.state)"
      ],
      "metadata": {
        "id": "Eo8mzn0FqEkg"
      },
      "execution_count": null,
      "outputs": []
    },
    {
      "cell_type": "code",
      "source": [
        "class RandomAgent:\n",
        "  def __init__(self, env):\n",
        "    self.env = env\n",
        "    self.observation_space = env.observation_space\n",
        "    self.action_space = env.action_space\n",
        "\n",
        "  def step(self):\n",
        "   return np.random.choice(self.action_space.n)"
      ],
      "metadata": {
        "id": "zp8dIRp1GeEW"
      },
      "execution_count": null,
      "outputs": []
    },
    {
      "cell_type": "code",
      "source": [
        "env = GridEnvironment()\n",
        "agent = RandomAgent(env)\n",
        "\n",
        "\n",
        "output_grid = widgets.Grid(1, 1)\n",
        "with output_grid.output_to(0, 0):\n",
        "  env.render()\n",
        "total_reward = 0\n",
        "terminated = False\n",
        "finish = False\n",
        "while not terminated and not finish:\n",
        "  action = agent.step()\n",
        "  next_state, reward, terminated, finish = env.step(action)\n",
        "  total_reward += reward\n",
        "  with output_grid.output_to(0, 0):\n",
        "    output_grid.clear_cell()\n",
        "    env.render()\n",
        "  time.sleep(10)"
      ],
      "metadata": {
        "colab": {
          "base_uri": "https://localhost:8080/",
          "height": 85
        },
        "id": "Se3kkzB0GetV",
        "outputId": "a00a91af-7859-4fbc-faab-c6b527a6c60e"
      },
      "execution_count": null,
      "outputs": [
        {
          "output_type": "display_data",
          "data": {
            "text/plain": [
              "<IPython.core.display.HTML object>"
            ],
            "text/html": [
              "<style>\n",
              "       table#id16, #id16 > tbody > tr > th, #id16 > tbody > tr > td {\n",
              "         border: 1px solid lightgray;\n",
              "         border-collapse:collapse;\n",
              "         \n",
              "        }</style>"
            ]
          },
          "metadata": {}
        },
        {
          "output_type": "display_data",
          "data": {
            "text/plain": [
              "<IPython.core.display.HTML object>"
            ],
            "text/html": [
              "<table id=id16><tr><td id=id16-0-0></td></tr></table>"
            ]
          },
          "metadata": {}
        },
        {
          "output_type": "display_data",
          "data": {
            "text/plain": [
              "<IPython.core.display.Javascript object>"
            ],
            "application/javascript": [
              "window[\"989b24be-ae6e-11ed-96d8-0242ac1c000c\"] = google.colab.output.getActiveOutputArea();\n",
              "//# sourceURL=js_f84c3086cf"
            ]
          },
          "metadata": {}
        },
        {
          "output_type": "display_data",
          "data": {
            "text/plain": [
              "<IPython.core.display.Javascript object>"
            ],
            "application/javascript": [
              "window[\"989bd8dc-ae6e-11ed-96d8-0242ac1c000c\"] = document.querySelector(\"#id16-0-0\");\n",
              "//# sourceURL=js_f2ef377bf4"
            ]
          },
          "metadata": {}
        },
        {
          "output_type": "display_data",
          "data": {
            "text/plain": [
              "<IPython.core.display.Javascript object>"
            ],
            "application/javascript": [
              "window[\"989c2f8a-ae6e-11ed-96d8-0242ac1c000c\"] = google.colab.output.setActiveOutputArea(window[\"989bd8dc-ae6e-11ed-96d8-0242ac1c000c\"]);\n",
              "//# sourceURL=js_1fc8c29e66"
            ]
          },
          "metadata": {}
        },
        {
          "output_type": "display_data",
          "data": {
            "text/plain": [
              "<IPython.core.display.Javascript object>"
            ],
            "application/javascript": [
              "window[\"98ad7e70-ae6e-11ed-96d8-0242ac1c000c\"] = google.colab.output.setActiveOutputArea(window[\"989b24be-ae6e-11ed-96d8-0242ac1c000c\"]);\n",
              "//# sourceURL=js_04a1accb4e"
            ]
          },
          "metadata": {}
        },
        {
          "output_type": "display_data",
          "data": {
            "text/plain": [
              "<IPython.core.display.Javascript object>"
            ],
            "application/javascript": [
              "window[\"98af9f52-ae6e-11ed-96d8-0242ac1c000c\"] = google.colab.output.getActiveOutputArea();\n",
              "//# sourceURL=js_93b5ebff49"
            ]
          },
          "metadata": {}
        },
        {
          "output_type": "display_data",
          "data": {
            "text/plain": [
              "<IPython.core.display.Javascript object>"
            ],
            "application/javascript": [
              "window[\"98afe1e2-ae6e-11ed-96d8-0242ac1c000c\"] = document.querySelector(\"#id16-0-0\");\n",
              "//# sourceURL=js_368300f373"
            ]
          },
          "metadata": {}
        },
        {
          "output_type": "display_data",
          "data": {
            "text/plain": [
              "<IPython.core.display.Javascript object>"
            ],
            "application/javascript": [
              "window[\"98b02116-ae6e-11ed-96d8-0242ac1c000c\"] = google.colab.output.setActiveOutputArea(window[\"98afe1e2-ae6e-11ed-96d8-0242ac1c000c\"]);\n",
              "//# sourceURL=js_be16441acb"
            ]
          },
          "metadata": {}
        },
        {
          "output_type": "display_data",
          "data": {
            "text/plain": [
              "<IPython.core.display.Javascript object>"
            ],
            "application/javascript": [
              "window[\"98e27f08-ae6e-11ed-96d8-0242ac1c000c\"] = google.colab.output.setActiveOutputArea(window[\"98af9f52-ae6e-11ed-96d8-0242ac1c000c\"]);\n",
              "//# sourceURL=js_4d133dbfa6"
            ]
          },
          "metadata": {}
        },
        {
          "output_type": "display_data",
          "data": {
            "text/plain": [
              "<IPython.core.display.Javascript object>"
            ],
            "application/javascript": [
              "window[\"9edbe0ca-ae6e-11ed-96d8-0242ac1c000c\"] = google.colab.output.getActiveOutputArea();\n",
              "//# sourceURL=js_f06813c4b8"
            ]
          },
          "metadata": {}
        },
        {
          "output_type": "display_data",
          "data": {
            "text/plain": [
              "<IPython.core.display.Javascript object>"
            ],
            "application/javascript": [
              "window[\"9edc7260-ae6e-11ed-96d8-0242ac1c000c\"] = document.querySelector(\"#id16-0-0\");\n",
              "//# sourceURL=js_221e0697eb"
            ]
          },
          "metadata": {}
        },
        {
          "output_type": "display_data",
          "data": {
            "text/plain": [
              "<IPython.core.display.Javascript object>"
            ],
            "application/javascript": [
              "window[\"9edcaf96-ae6e-11ed-96d8-0242ac1c000c\"] = google.colab.output.setActiveOutputArea(window[\"9edc7260-ae6e-11ed-96d8-0242ac1c000c\"]);\n",
              "//# sourceURL=js_e7e1ea6ab7"
            ]
          },
          "metadata": {}
        },
        {
          "output_type": "display_data",
          "data": {
            "text/plain": [
              "<IPython.core.display.Javascript object>"
            ],
            "application/javascript": [
              "window[\"9eef1762-ae6e-11ed-96d8-0242ac1c000c\"] = google.colab.output.setActiveOutputArea(window[\"9edbe0ca-ae6e-11ed-96d8-0242ac1c000c\"]);\n",
              "//# sourceURL=js_ce4431b496"
            ]
          },
          "metadata": {}
        },
        {
          "output_type": "display_data",
          "data": {
            "text/plain": [
              "<IPython.core.display.Javascript object>"
            ],
            "application/javascript": [
              "window[\"a4e931b6-ae6e-11ed-96d8-0242ac1c000c\"] = google.colab.output.getActiveOutputArea();\n",
              "//# sourceURL=js_3d5bce4c84"
            ]
          },
          "metadata": {}
        },
        {
          "output_type": "display_data",
          "data": {
            "text/plain": [
              "<IPython.core.display.Javascript object>"
            ],
            "application/javascript": [
              "window[\"a4e974d2-ae6e-11ed-96d8-0242ac1c000c\"] = document.querySelector(\"#id16-0-0\");\n",
              "//# sourceURL=js_ac6590ebf4"
            ]
          },
          "metadata": {}
        },
        {
          "output_type": "display_data",
          "data": {
            "text/plain": [
              "<IPython.core.display.Javascript object>"
            ],
            "application/javascript": [
              "window[\"a4e9cee6-ae6e-11ed-96d8-0242ac1c000c\"] = google.colab.output.setActiveOutputArea(window[\"a4e974d2-ae6e-11ed-96d8-0242ac1c000c\"]);\n",
              "//# sourceURL=js_aa5448ba8b"
            ]
          },
          "metadata": {}
        },
        {
          "output_type": "display_data",
          "data": {
            "text/plain": [
              "<IPython.core.display.Javascript object>"
            ],
            "application/javascript": [
              "window[\"a4fd4a98-ae6e-11ed-96d8-0242ac1c000c\"] = google.colab.output.setActiveOutputArea(window[\"a4e931b6-ae6e-11ed-96d8-0242ac1c000c\"]);\n",
              "//# sourceURL=js_60fd13ff4a"
            ]
          },
          "metadata": {}
        },
        {
          "output_type": "display_data",
          "data": {
            "text/plain": [
              "<IPython.core.display.Javascript object>"
            ],
            "application/javascript": [
              "window[\"aaf6f26e-ae6e-11ed-96d8-0242ac1c000c\"] = google.colab.output.getActiveOutputArea();\n",
              "//# sourceURL=js_6a386b0180"
            ]
          },
          "metadata": {}
        },
        {
          "output_type": "display_data",
          "data": {
            "text/plain": [
              "<IPython.core.display.Javascript object>"
            ],
            "application/javascript": [
              "window[\"aaf749bc-ae6e-11ed-96d8-0242ac1c000c\"] = document.querySelector(\"#id16-0-0\");\n",
              "//# sourceURL=js_98afbbc34c"
            ]
          },
          "metadata": {}
        },
        {
          "output_type": "display_data",
          "data": {
            "text/plain": [
              "<IPython.core.display.Javascript object>"
            ],
            "application/javascript": [
              "window[\"aaf7b104-ae6e-11ed-96d8-0242ac1c000c\"] = google.colab.output.setActiveOutputArea(window[\"aaf749bc-ae6e-11ed-96d8-0242ac1c000c\"]);\n",
              "//# sourceURL=js_44529af8e1"
            ]
          },
          "metadata": {}
        },
        {
          "output_type": "display_data",
          "data": {
            "text/plain": [
              "<IPython.core.display.Javascript object>"
            ],
            "application/javascript": [
              "window[\"ab08b7f6-ae6e-11ed-96d8-0242ac1c000c\"] = google.colab.output.setActiveOutputArea(window[\"aaf6f26e-ae6e-11ed-96d8-0242ac1c000c\"]);\n",
              "//# sourceURL=js_ca38509f41"
            ]
          },
          "metadata": {}
        },
        {
          "output_type": "display_data",
          "data": {
            "text/plain": [
              "<IPython.core.display.Javascript object>"
            ],
            "application/javascript": [
              "window[\"b100ca72-ae6e-11ed-96d8-0242ac1c000c\"] = google.colab.output.getActiveOutputArea();\n",
              "//# sourceURL=js_5920e2b0e9"
            ]
          },
          "metadata": {}
        },
        {
          "output_type": "display_data",
          "data": {
            "text/plain": [
              "<IPython.core.display.Javascript object>"
            ],
            "application/javascript": [
              "window[\"b1014308-ae6e-11ed-96d8-0242ac1c000c\"] = document.querySelector(\"#id16-0-0\");\n",
              "//# sourceURL=js_302156bd8d"
            ]
          },
          "metadata": {}
        },
        {
          "output_type": "display_data",
          "data": {
            "text/plain": [
              "<IPython.core.display.Javascript object>"
            ],
            "application/javascript": [
              "window[\"b1018b74-ae6e-11ed-96d8-0242ac1c000c\"] = google.colab.output.setActiveOutputArea(window[\"b1014308-ae6e-11ed-96d8-0242ac1c000c\"]);\n",
              "//# sourceURL=js_0c9aa29e67"
            ]
          },
          "metadata": {}
        },
        {
          "output_type": "display_data",
          "data": {
            "text/plain": [
              "<IPython.core.display.Javascript object>"
            ],
            "application/javascript": [
              "window[\"b113ecec-ae6e-11ed-96d8-0242ac1c000c\"] = google.colab.output.setActiveOutputArea(window[\"b100ca72-ae6e-11ed-96d8-0242ac1c000c\"]);\n",
              "//# sourceURL=js_c3c8fb5d94"
            ]
          },
          "metadata": {}
        },
        {
          "output_type": "display_data",
          "data": {
            "text/plain": [
              "<IPython.core.display.Javascript object>"
            ],
            "application/javascript": [
              "window[\"b70db8e4-ae6e-11ed-96d8-0242ac1c000c\"] = google.colab.output.getActiveOutputArea();\n",
              "//# sourceURL=js_5095df4c67"
            ]
          },
          "metadata": {}
        },
        {
          "output_type": "display_data",
          "data": {
            "text/plain": [
              "<IPython.core.display.Javascript object>"
            ],
            "application/javascript": [
              "window[\"b70e0fb0-ae6e-11ed-96d8-0242ac1c000c\"] = document.querySelector(\"#id16-0-0\");\n",
              "//# sourceURL=js_37f4f5d4ef"
            ]
          },
          "metadata": {}
        },
        {
          "output_type": "display_data",
          "data": {
            "text/plain": [
              "<IPython.core.display.Javascript object>"
            ],
            "application/javascript": [
              "window[\"b70e93ea-ae6e-11ed-96d8-0242ac1c000c\"] = google.colab.output.setActiveOutputArea(window[\"b70e0fb0-ae6e-11ed-96d8-0242ac1c000c\"]);\n",
              "//# sourceURL=js_c072630654"
            ]
          },
          "metadata": {}
        },
        {
          "output_type": "display_data",
          "data": {
            "text/plain": [
              "<IPython.core.display.Javascript object>"
            ],
            "application/javascript": [
              "window[\"b727f16e-ae6e-11ed-96d8-0242ac1c000c\"] = google.colab.output.setActiveOutputArea(window[\"b70db8e4-ae6e-11ed-96d8-0242ac1c000c\"]);\n",
              "//# sourceURL=js_f77de9f5d9"
            ]
          },
          "metadata": {}
        },
        {
          "output_type": "display_data",
          "data": {
            "text/plain": [
              "<IPython.core.display.Javascript object>"
            ],
            "application/javascript": [
              "window[\"bd21598e-ae6e-11ed-96d8-0242ac1c000c\"] = google.colab.output.getActiveOutputArea();\n",
              "//# sourceURL=js_cd4a24ce6b"
            ]
          },
          "metadata": {}
        },
        {
          "output_type": "display_data",
          "data": {
            "text/plain": [
              "<IPython.core.display.Javascript object>"
            ],
            "application/javascript": [
              "window[\"bd21b316-ae6e-11ed-96d8-0242ac1c000c\"] = document.querySelector(\"#id16-0-0\");\n",
              "//# sourceURL=js_d2af03b643"
            ]
          },
          "metadata": {}
        },
        {
          "output_type": "display_data",
          "data": {
            "text/plain": [
              "<IPython.core.display.Javascript object>"
            ],
            "application/javascript": [
              "window[\"bd21f25e-ae6e-11ed-96d8-0242ac1c000c\"] = google.colab.output.setActiveOutputArea(window[\"bd21b316-ae6e-11ed-96d8-0242ac1c000c\"]);\n",
              "//# sourceURL=js_15cb1ca155"
            ]
          },
          "metadata": {}
        },
        {
          "output_type": "display_data",
          "data": {
            "text/plain": [
              "<IPython.core.display.Javascript object>"
            ],
            "application/javascript": [
              "window[\"bd33e6c6-ae6e-11ed-96d8-0242ac1c000c\"] = google.colab.output.setActiveOutputArea(window[\"bd21598e-ae6e-11ed-96d8-0242ac1c000c\"]);\n",
              "//# sourceURL=js_3a07351710"
            ]
          },
          "metadata": {}
        },
        {
          "output_type": "display_data",
          "data": {
            "text/plain": [
              "<IPython.core.display.Javascript object>"
            ],
            "application/javascript": [
              "window[\"c32def5e-ae6e-11ed-96d8-0242ac1c000c\"] = google.colab.output.getActiveOutputArea();\n",
              "//# sourceURL=js_7b5ce4a69d"
            ]
          },
          "metadata": {}
        },
        {
          "output_type": "display_data",
          "data": {
            "text/plain": [
              "<IPython.core.display.Javascript object>"
            ],
            "application/javascript": [
              "window[\"c32e56b0-ae6e-11ed-96d8-0242ac1c000c\"] = document.querySelector(\"#id16-0-0\");\n",
              "//# sourceURL=js_d7502103f9"
            ]
          },
          "metadata": {}
        },
        {
          "output_type": "display_data",
          "data": {
            "text/plain": [
              "<IPython.core.display.Javascript object>"
            ],
            "application/javascript": [
              "window[\"c32ecaaa-ae6e-11ed-96d8-0242ac1c000c\"] = google.colab.output.setActiveOutputArea(window[\"c32e56b0-ae6e-11ed-96d8-0242ac1c000c\"]);\n",
              "//# sourceURL=js_c0c1669c40"
            ]
          },
          "metadata": {}
        },
        {
          "output_type": "display_data",
          "data": {
            "text/plain": [
              "<IPython.core.display.Javascript object>"
            ],
            "application/javascript": [
              "window[\"c34340fc-ae6e-11ed-96d8-0242ac1c000c\"] = google.colab.output.setActiveOutputArea(window[\"c32def5e-ae6e-11ed-96d8-0242ac1c000c\"]);\n",
              "//# sourceURL=js_b37874bf99"
            ]
          },
          "metadata": {}
        },
        {
          "output_type": "display_data",
          "data": {
            "text/plain": [
              "<IPython.core.display.Javascript object>"
            ],
            "application/javascript": [
              "window[\"c93d5132-ae6e-11ed-96d8-0242ac1c000c\"] = google.colab.output.getActiveOutputArea();\n",
              "//# sourceURL=js_16ae9f2afa"
            ]
          },
          "metadata": {}
        },
        {
          "output_type": "display_data",
          "data": {
            "text/plain": [
              "<IPython.core.display.Javascript object>"
            ],
            "application/javascript": [
              "window[\"c93db032-ae6e-11ed-96d8-0242ac1c000c\"] = document.querySelector(\"#id16-0-0\");\n",
              "//# sourceURL=js_a7e522a960"
            ]
          },
          "metadata": {}
        },
        {
          "output_type": "display_data",
          "data": {
            "text/plain": [
              "<IPython.core.display.Javascript object>"
            ],
            "application/javascript": [
              "window[\"c93eae7e-ae6e-11ed-96d8-0242ac1c000c\"] = google.colab.output.setActiveOutputArea(window[\"c93db032-ae6e-11ed-96d8-0242ac1c000c\"]);\n",
              "//# sourceURL=js_7b76256e91"
            ]
          },
          "metadata": {}
        },
        {
          "output_type": "display_data",
          "data": {
            "text/plain": [
              "<IPython.core.display.Javascript object>"
            ],
            "application/javascript": [
              "window[\"c95140ca-ae6e-11ed-96d8-0242ac1c000c\"] = google.colab.output.setActiveOutputArea(window[\"c93d5132-ae6e-11ed-96d8-0242ac1c000c\"]);\n",
              "//# sourceURL=js_90a2dd22b8"
            ]
          },
          "metadata": {}
        },
        {
          "output_type": "display_data",
          "data": {
            "text/plain": [
              "<IPython.core.display.Javascript object>"
            ],
            "application/javascript": [
              "window[\"cf4a224e-ae6e-11ed-96d8-0242ac1c000c\"] = google.colab.output.getActiveOutputArea();\n",
              "//# sourceURL=js_f64d5804e7"
            ]
          },
          "metadata": {}
        },
        {
          "output_type": "display_data",
          "data": {
            "text/plain": [
              "<IPython.core.display.Javascript object>"
            ],
            "application/javascript": [
              "window[\"cf4b068c-ae6e-11ed-96d8-0242ac1c000c\"] = document.querySelector(\"#id16-0-0\");\n",
              "//# sourceURL=js_c9d5d4a375"
            ]
          },
          "metadata": {}
        },
        {
          "output_type": "display_data",
          "data": {
            "text/plain": [
              "<IPython.core.display.Javascript object>"
            ],
            "application/javascript": [
              "window[\"cf4b67bc-ae6e-11ed-96d8-0242ac1c000c\"] = google.colab.output.setActiveOutputArea(window[\"cf4b068c-ae6e-11ed-96d8-0242ac1c000c\"]);\n",
              "//# sourceURL=js_bb5257a083"
            ]
          },
          "metadata": {}
        },
        {
          "output_type": "display_data",
          "data": {
            "text/plain": [
              "<IPython.core.display.Javascript object>"
            ],
            "application/javascript": [
              "window[\"cf5eaa84-ae6e-11ed-96d8-0242ac1c000c\"] = google.colab.output.setActiveOutputArea(window[\"cf4a224e-ae6e-11ed-96d8-0242ac1c000c\"]);\n",
              "//# sourceURL=js_0e62310ca6"
            ]
          },
          "metadata": {}
        },
        {
          "output_type": "display_data",
          "data": {
            "text/plain": [
              "<IPython.core.display.Javascript object>"
            ],
            "application/javascript": [
              "window[\"d558f5ac-ae6e-11ed-96d8-0242ac1c000c\"] = google.colab.output.getActiveOutputArea();\n",
              "//# sourceURL=js_85938cc5ee"
            ]
          },
          "metadata": {}
        },
        {
          "output_type": "display_data",
          "data": {
            "text/plain": [
              "<IPython.core.display.Javascript object>"
            ],
            "application/javascript": [
              "window[\"d5595ff6-ae6e-11ed-96d8-0242ac1c000c\"] = document.querySelector(\"#id16-0-0\");\n",
              "//# sourceURL=js_70259b2672"
            ]
          },
          "metadata": {}
        },
        {
          "output_type": "display_data",
          "data": {
            "text/plain": [
              "<IPython.core.display.Javascript object>"
            ],
            "application/javascript": [
              "window[\"d559d486-ae6e-11ed-96d8-0242ac1c000c\"] = google.colab.output.setActiveOutputArea(window[\"d5595ff6-ae6e-11ed-96d8-0242ac1c000c\"]);\n",
              "//# sourceURL=js_61d67e38cb"
            ]
          },
          "metadata": {}
        },
        {
          "output_type": "display_data",
          "data": {
            "text/plain": [
              "<IPython.core.display.Javascript object>"
            ],
            "application/javascript": [
              "window[\"d56bfa3a-ae6e-11ed-96d8-0242ac1c000c\"] = google.colab.output.setActiveOutputArea(window[\"d558f5ac-ae6e-11ed-96d8-0242ac1c000c\"]);\n",
              "//# sourceURL=js_4e0d95df62"
            ]
          },
          "metadata": {}
        },
        {
          "output_type": "display_data",
          "data": {
            "text/plain": [
              "<IPython.core.display.Javascript object>"
            ],
            "application/javascript": [
              "window[\"db657664-ae6e-11ed-96d8-0242ac1c000c\"] = google.colab.output.getActiveOutputArea();\n",
              "//# sourceURL=js_b2894e92c2"
            ]
          },
          "metadata": {}
        },
        {
          "output_type": "display_data",
          "data": {
            "text/plain": [
              "<IPython.core.display.Javascript object>"
            ],
            "application/javascript": [
              "window[\"db65ca4c-ae6e-11ed-96d8-0242ac1c000c\"] = document.querySelector(\"#id16-0-0\");\n",
              "//# sourceURL=js_9d71fbfcbe"
            ]
          },
          "metadata": {}
        },
        {
          "output_type": "display_data",
          "data": {
            "text/plain": [
              "<IPython.core.display.Javascript object>"
            ],
            "application/javascript": [
              "window[\"db6643fa-ae6e-11ed-96d8-0242ac1c000c\"] = google.colab.output.setActiveOutputArea(window[\"db65ca4c-ae6e-11ed-96d8-0242ac1c000c\"]);\n",
              "//# sourceURL=js_fb60b40aba"
            ]
          },
          "metadata": {}
        },
        {
          "output_type": "display_data",
          "data": {
            "text/plain": [
              "<IPython.core.display.Javascript object>"
            ],
            "application/javascript": [
              "window[\"db7762fc-ae6e-11ed-96d8-0242ac1c000c\"] = google.colab.output.setActiveOutputArea(window[\"db657664-ae6e-11ed-96d8-0242ac1c000c\"]);\n",
              "//# sourceURL=js_9422985b46"
            ]
          },
          "metadata": {}
        },
        {
          "output_type": "display_data",
          "data": {
            "text/plain": [
              "<IPython.core.display.Javascript object>"
            ],
            "application/javascript": [
              "window[\"e171596a-ae6e-11ed-96d8-0242ac1c000c\"] = google.colab.output.getActiveOutputArea();\n",
              "//# sourceURL=js_8a7eb4acbb"
            ]
          },
          "metadata": {}
        },
        {
          "output_type": "display_data",
          "data": {
            "text/plain": [
              "<IPython.core.display.Javascript object>"
            ],
            "application/javascript": [
              "window[\"e17188ea-ae6e-11ed-96d8-0242ac1c000c\"] = document.querySelector(\"#id16-0-0\");\n",
              "//# sourceURL=js_9fe00356ad"
            ]
          },
          "metadata": {}
        },
        {
          "output_type": "display_data",
          "data": {
            "text/plain": [
              "<IPython.core.display.Javascript object>"
            ],
            "application/javascript": [
              "window[\"e1721d0a-ae6e-11ed-96d8-0242ac1c000c\"] = google.colab.output.setActiveOutputArea(window[\"e17188ea-ae6e-11ed-96d8-0242ac1c000c\"]);\n",
              "//# sourceURL=js_2588924e83"
            ]
          },
          "metadata": {}
        },
        {
          "output_type": "display_data",
          "data": {
            "text/plain": [
              "<IPython.core.display.Javascript object>"
            ],
            "application/javascript": [
              "window[\"e187a9ea-ae6e-11ed-96d8-0242ac1c000c\"] = google.colab.output.setActiveOutputArea(window[\"e171596a-ae6e-11ed-96d8-0242ac1c000c\"]);\n",
              "//# sourceURL=js_51fe20bfdd"
            ]
          },
          "metadata": {}
        },
        {
          "output_type": "display_data",
          "data": {
            "text/plain": [
              "<IPython.core.display.Javascript object>"
            ],
            "application/javascript": [
              "window[\"e78174d4-ae6e-11ed-96d8-0242ac1c000c\"] = google.colab.output.getActiveOutputArea();\n",
              "//# sourceURL=js_d8adbbcbd6"
            ]
          },
          "metadata": {}
        },
        {
          "output_type": "display_data",
          "data": {
            "text/plain": [
              "<IPython.core.display.Javascript object>"
            ],
            "application/javascript": [
              "window[\"e781ca2e-ae6e-11ed-96d8-0242ac1c000c\"] = document.querySelector(\"#id16-0-0\");\n",
              "//# sourceURL=js_0bcaa50e52"
            ]
          },
          "metadata": {}
        },
        {
          "output_type": "display_data",
          "data": {
            "text/plain": [
              "<IPython.core.display.Javascript object>"
            ],
            "application/javascript": [
              "window[\"e7820908-ae6e-11ed-96d8-0242ac1c000c\"] = google.colab.output.setActiveOutputArea(window[\"e781ca2e-ae6e-11ed-96d8-0242ac1c000c\"]);\n",
              "//# sourceURL=js_9c8b225d91"
            ]
          },
          "metadata": {}
        },
        {
          "output_type": "display_data",
          "data": {
            "text/plain": [
              "<IPython.core.display.Javascript object>"
            ],
            "application/javascript": [
              "window[\"e7954112-ae6e-11ed-96d8-0242ac1c000c\"] = google.colab.output.setActiveOutputArea(window[\"e78174d4-ae6e-11ed-96d8-0242ac1c000c\"]);\n",
              "//# sourceURL=js_8c136c8d8c"
            ]
          },
          "metadata": {}
        },
        {
          "output_type": "display_data",
          "data": {
            "text/plain": [
              "<IPython.core.display.Javascript object>"
            ],
            "application/javascript": [
              "window[\"ed8f14c6-ae6e-11ed-96d8-0242ac1c000c\"] = google.colab.output.getActiveOutputArea();\n",
              "//# sourceURL=js_bfe59b17c5"
            ]
          },
          "metadata": {}
        },
        {
          "output_type": "display_data",
          "data": {
            "text/plain": [
              "<IPython.core.display.Javascript object>"
            ],
            "application/javascript": [
              "window[\"ed8f781c-ae6e-11ed-96d8-0242ac1c000c\"] = document.querySelector(\"#id16-0-0\");\n",
              "//# sourceURL=js_6b8731b11c"
            ]
          },
          "metadata": {}
        },
        {
          "output_type": "display_data",
          "data": {
            "text/plain": [
              "<IPython.core.display.Javascript object>"
            ],
            "application/javascript": [
              "window[\"ed8fe748-ae6e-11ed-96d8-0242ac1c000c\"] = google.colab.output.setActiveOutputArea(window[\"ed8f781c-ae6e-11ed-96d8-0242ac1c000c\"]);\n",
              "//# sourceURL=js_e670c5c77e"
            ]
          },
          "metadata": {}
        },
        {
          "output_type": "display_data",
          "data": {
            "text/plain": [
              "<IPython.core.display.Javascript object>"
            ],
            "application/javascript": [
              "window[\"eda1cbb6-ae6e-11ed-96d8-0242ac1c000c\"] = google.colab.output.setActiveOutputArea(window[\"ed8f14c6-ae6e-11ed-96d8-0242ac1c000c\"]);\n",
              "//# sourceURL=js_0ecd6896db"
            ]
          },
          "metadata": {}
        },
        {
          "output_type": "display_data",
          "data": {
            "text/plain": [
              "<IPython.core.display.Javascript object>"
            ],
            "application/javascript": [
              "window[\"f39b7a44-ae6e-11ed-96d8-0242ac1c000c\"] = google.colab.output.getActiveOutputArea();\n",
              "//# sourceURL=js_672f3a848f"
            ]
          },
          "metadata": {}
        },
        {
          "output_type": "display_data",
          "data": {
            "text/plain": [
              "<IPython.core.display.Javascript object>"
            ],
            "application/javascript": [
              "window[\"f39c2ae8-ae6e-11ed-96d8-0242ac1c000c\"] = document.querySelector(\"#id16-0-0\");\n",
              "//# sourceURL=js_edeaa00e0f"
            ]
          },
          "metadata": {}
        },
        {
          "output_type": "display_data",
          "data": {
            "text/plain": [
              "<IPython.core.display.Javascript object>"
            ],
            "application/javascript": [
              "window[\"f39c6878-ae6e-11ed-96d8-0242ac1c000c\"] = google.colab.output.setActiveOutputArea(window[\"f39c2ae8-ae6e-11ed-96d8-0242ac1c000c\"]);\n",
              "//# sourceURL=js_0d8010c6ee"
            ]
          },
          "metadata": {}
        },
        {
          "output_type": "display_data",
          "data": {
            "text/plain": [
              "<IPython.core.display.Javascript object>"
            ],
            "application/javascript": [
              "window[\"f3b6c222-ae6e-11ed-96d8-0242ac1c000c\"] = google.colab.output.setActiveOutputArea(window[\"f39b7a44-ae6e-11ed-96d8-0242ac1c000c\"]);\n",
              "//# sourceURL=js_f949e669e8"
            ]
          },
          "metadata": {}
        },
        {
          "output_type": "display_data",
          "data": {
            "text/plain": [
              "<IPython.core.display.Javascript object>"
            ],
            "application/javascript": [
              "window[\"f9b0b07a-ae6e-11ed-96d8-0242ac1c000c\"] = google.colab.output.getActiveOutputArea();\n",
              "//# sourceURL=js_a62747546e"
            ]
          },
          "metadata": {}
        },
        {
          "output_type": "display_data",
          "data": {
            "text/plain": [
              "<IPython.core.display.Javascript object>"
            ],
            "application/javascript": [
              "window[\"f9b10b92-ae6e-11ed-96d8-0242ac1c000c\"] = document.querySelector(\"#id16-0-0\");\n",
              "//# sourceURL=js_9db7c3fb7f"
            ]
          },
          "metadata": {}
        },
        {
          "output_type": "display_data",
          "data": {
            "text/plain": [
              "<IPython.core.display.Javascript object>"
            ],
            "application/javascript": [
              "window[\"f9b167b8-ae6e-11ed-96d8-0242ac1c000c\"] = google.colab.output.setActiveOutputArea(window[\"f9b10b92-ae6e-11ed-96d8-0242ac1c000c\"]);\n",
              "//# sourceURL=js_1986ffae73"
            ]
          },
          "metadata": {}
        },
        {
          "output_type": "display_data",
          "data": {
            "text/plain": [
              "<IPython.core.display.Javascript object>"
            ],
            "application/javascript": [
              "window[\"f9c2e5d8-ae6e-11ed-96d8-0242ac1c000c\"] = google.colab.output.setActiveOutputArea(window[\"f9b0b07a-ae6e-11ed-96d8-0242ac1c000c\"]);\n",
              "//# sourceURL=js_fb42795d41"
            ]
          },
          "metadata": {}
        },
        {
          "output_type": "display_data",
          "data": {
            "text/plain": [
              "<IPython.core.display.Javascript object>"
            ],
            "application/javascript": [
              "window[\"ffbc684c-ae6e-11ed-96d8-0242ac1c000c\"] = google.colab.output.getActiveOutputArea();\n",
              "//# sourceURL=js_2653b510dd"
            ]
          },
          "metadata": {}
        },
        {
          "output_type": "display_data",
          "data": {
            "text/plain": [
              "<IPython.core.display.Javascript object>"
            ],
            "application/javascript": [
              "window[\"ffbcd106-ae6e-11ed-96d8-0242ac1c000c\"] = document.querySelector(\"#id16-0-0\");\n",
              "//# sourceURL=js_3b59d85887"
            ]
          },
          "metadata": {}
        },
        {
          "output_type": "display_data",
          "data": {
            "text/plain": [
              "<IPython.core.display.Javascript object>"
            ],
            "application/javascript": [
              "window[\"ffbd2fde-ae6e-11ed-96d8-0242ac1c000c\"] = google.colab.output.setActiveOutputArea(window[\"ffbcd106-ae6e-11ed-96d8-0242ac1c000c\"]);\n",
              "//# sourceURL=js_1a87e4ddce"
            ]
          },
          "metadata": {}
        },
        {
          "output_type": "display_data",
          "data": {
            "text/plain": [
              "<IPython.core.display.Javascript object>"
            ],
            "application/javascript": [
              "window[\"ffd12336-ae6e-11ed-96d8-0242ac1c000c\"] = google.colab.output.setActiveOutputArea(window[\"ffbc684c-ae6e-11ed-96d8-0242ac1c000c\"]);\n",
              "//# sourceURL=js_c54ac0e6ed"
            ]
          },
          "metadata": {}
        },
        {
          "output_type": "display_data",
          "data": {
            "text/plain": [
              "<IPython.core.display.Javascript object>"
            ],
            "application/javascript": [
              "window[\"05c999ee-ae6f-11ed-96d8-0242ac1c000c\"] = google.colab.output.getActiveOutputArea();\n",
              "//# sourceURL=js_b128697b07"
            ]
          },
          "metadata": {}
        },
        {
          "output_type": "display_data",
          "data": {
            "text/plain": [
              "<IPython.core.display.Javascript object>"
            ],
            "application/javascript": [
              "window[\"05c9dd32-ae6f-11ed-96d8-0242ac1c000c\"] = document.querySelector(\"#id16-0-0\");\n",
              "//# sourceURL=js_eceeee6de5"
            ]
          },
          "metadata": {}
        },
        {
          "output_type": "display_data",
          "data": {
            "text/plain": [
              "<IPython.core.display.Javascript object>"
            ],
            "application/javascript": [
              "window[\"05ca1720-ae6f-11ed-96d8-0242ac1c000c\"] = google.colab.output.setActiveOutputArea(window[\"05c9dd32-ae6f-11ed-96d8-0242ac1c000c\"]);\n",
              "//# sourceURL=js_c6f1345bbd"
            ]
          },
          "metadata": {}
        },
        {
          "output_type": "display_data",
          "data": {
            "text/plain": [
              "<IPython.core.display.Javascript object>"
            ],
            "application/javascript": [
              "window[\"05dcf638-ae6f-11ed-96d8-0242ac1c000c\"] = google.colab.output.setActiveOutputArea(window[\"05c999ee-ae6f-11ed-96d8-0242ac1c000c\"]);\n",
              "//# sourceURL=js_932736ff1a"
            ]
          },
          "metadata": {}
        },
        {
          "output_type": "display_data",
          "data": {
            "text/plain": [
              "<IPython.core.display.Javascript object>"
            ],
            "application/javascript": [
              "window[\"0bd7475a-ae6f-11ed-96d8-0242ac1c000c\"] = google.colab.output.getActiveOutputArea();\n",
              "//# sourceURL=js_777eec1a6f"
            ]
          },
          "metadata": {}
        },
        {
          "output_type": "display_data",
          "data": {
            "text/plain": [
              "<IPython.core.display.Javascript object>"
            ],
            "application/javascript": [
              "window[\"0bd79ef8-ae6f-11ed-96d8-0242ac1c000c\"] = document.querySelector(\"#id16-0-0\");\n",
              "//# sourceURL=js_fe9f1be036"
            ]
          },
          "metadata": {}
        },
        {
          "output_type": "display_data",
          "data": {
            "text/plain": [
              "<IPython.core.display.Javascript object>"
            ],
            "application/javascript": [
              "window[\"0bd8111c-ae6f-11ed-96d8-0242ac1c000c\"] = google.colab.output.setActiveOutputArea(window[\"0bd79ef8-ae6f-11ed-96d8-0242ac1c000c\"]);\n",
              "//# sourceURL=js_794666afb7"
            ]
          },
          "metadata": {}
        },
        {
          "output_type": "display_data",
          "data": {
            "text/plain": [
              "<IPython.core.display.Javascript object>"
            ],
            "application/javascript": [
              "window[\"0beb6294-ae6f-11ed-96d8-0242ac1c000c\"] = google.colab.output.setActiveOutputArea(window[\"0bd7475a-ae6f-11ed-96d8-0242ac1c000c\"]);\n",
              "//# sourceURL=js_1fbae0967e"
            ]
          },
          "metadata": {}
        },
        {
          "output_type": "display_data",
          "data": {
            "text/plain": [
              "<IPython.core.display.Javascript object>"
            ],
            "application/javascript": [
              "window[\"11e541ce-ae6f-11ed-96d8-0242ac1c000c\"] = google.colab.output.getActiveOutputArea();\n",
              "//# sourceURL=js_c68e01705c"
            ]
          },
          "metadata": {}
        },
        {
          "output_type": "display_data",
          "data": {
            "text/plain": [
              "<IPython.core.display.Javascript object>"
            ],
            "application/javascript": [
              "window[\"11e580f8-ae6f-11ed-96d8-0242ac1c000c\"] = document.querySelector(\"#id16-0-0\");\n",
              "//# sourceURL=js_5130939e38"
            ]
          },
          "metadata": {}
        },
        {
          "output_type": "display_data",
          "data": {
            "text/plain": [
              "<IPython.core.display.Javascript object>"
            ],
            "application/javascript": [
              "window[\"11e5b604-ae6f-11ed-96d8-0242ac1c000c\"] = google.colab.output.setActiveOutputArea(window[\"11e580f8-ae6f-11ed-96d8-0242ac1c000c\"]);\n",
              "//# sourceURL=js_358d2ee29f"
            ]
          },
          "metadata": {}
        },
        {
          "output_type": "display_data",
          "data": {
            "text/plain": [
              "<IPython.core.display.Javascript object>"
            ],
            "application/javascript": [
              "window[\"11f87e10-ae6f-11ed-96d8-0242ac1c000c\"] = google.colab.output.setActiveOutputArea(window[\"11e541ce-ae6f-11ed-96d8-0242ac1c000c\"]);\n",
              "//# sourceURL=js_4664f9fa6d"
            ]
          },
          "metadata": {}
        },
        {
          "output_type": "display_data",
          "data": {
            "text/plain": [
              "<IPython.core.display.Javascript object>"
            ],
            "application/javascript": [
              "window[\"17f0d11e-ae6f-11ed-96d8-0242ac1c000c\"] = google.colab.output.getActiveOutputArea();\n",
              "//# sourceURL=js_176147ab84"
            ]
          },
          "metadata": {}
        },
        {
          "output_type": "display_data",
          "data": {
            "text/plain": [
              "<IPython.core.display.Javascript object>"
            ],
            "application/javascript": [
              "window[\"17f172b8-ae6f-11ed-96d8-0242ac1c000c\"] = document.querySelector(\"#id16-0-0\");\n",
              "//# sourceURL=js_1ca208e6ba"
            ]
          },
          "metadata": {}
        },
        {
          "output_type": "display_data",
          "data": {
            "text/plain": [
              "<IPython.core.display.Javascript object>"
            ],
            "application/javascript": [
              "window[\"17f1c524-ae6f-11ed-96d8-0242ac1c000c\"] = google.colab.output.setActiveOutputArea(window[\"17f172b8-ae6f-11ed-96d8-0242ac1c000c\"]);\n",
              "//# sourceURL=js_fb701e9b7d"
            ]
          },
          "metadata": {}
        },
        {
          "output_type": "display_data",
          "data": {
            "text/plain": [
              "<IPython.core.display.Javascript object>"
            ],
            "application/javascript": [
              "window[\"1804c8cc-ae6f-11ed-96d8-0242ac1c000c\"] = google.colab.output.setActiveOutputArea(window[\"17f0d11e-ae6f-11ed-96d8-0242ac1c000c\"]);\n",
              "//# sourceURL=js_607f8654de"
            ]
          },
          "metadata": {}
        },
        {
          "output_type": "display_data",
          "data": {
            "text/plain": [
              "<IPython.core.display.Javascript object>"
            ],
            "application/javascript": [
              "window[\"1dff3c12-ae6f-11ed-96d8-0242ac1c000c\"] = google.colab.output.getActiveOutputArea();\n",
              "//# sourceURL=js_f38ae402c5"
            ]
          },
          "metadata": {}
        },
        {
          "output_type": "display_data",
          "data": {
            "text/plain": [
              "<IPython.core.display.Javascript object>"
            ],
            "application/javascript": [
              "window[\"1dff8cc6-ae6f-11ed-96d8-0242ac1c000c\"] = document.querySelector(\"#id16-0-0\");\n",
              "//# sourceURL=js_5b3e00f836"
            ]
          },
          "metadata": {}
        },
        {
          "output_type": "display_data",
          "data": {
            "text/plain": [
              "<IPython.core.display.Javascript object>"
            ],
            "application/javascript": [
              "window[\"1dffc39e-ae6f-11ed-96d8-0242ac1c000c\"] = google.colab.output.setActiveOutputArea(window[\"1dff8cc6-ae6f-11ed-96d8-0242ac1c000c\"]);\n",
              "//# sourceURL=js_ec3f385300"
            ]
          },
          "metadata": {}
        },
        {
          "output_type": "display_data",
          "data": {
            "text/plain": [
              "<IPython.core.display.Javascript object>"
            ],
            "application/javascript": [
              "window[\"1e11aee2-ae6f-11ed-96d8-0242ac1c000c\"] = google.colab.output.setActiveOutputArea(window[\"1dff3c12-ae6f-11ed-96d8-0242ac1c000c\"]);\n",
              "//# sourceURL=js_7de7601d3c"
            ]
          },
          "metadata": {}
        },
        {
          "output_type": "display_data",
          "data": {
            "text/plain": [
              "<IPython.core.display.Javascript object>"
            ],
            "application/javascript": [
              "window[\"240c685a-ae6f-11ed-96d8-0242ac1c000c\"] = google.colab.output.getActiveOutputArea();\n",
              "//# sourceURL=js_8be2828ccc"
            ]
          },
          "metadata": {}
        },
        {
          "output_type": "display_data",
          "data": {
            "text/plain": [
              "<IPython.core.display.Javascript object>"
            ],
            "application/javascript": [
              "window[\"240cb8b4-ae6f-11ed-96d8-0242ac1c000c\"] = document.querySelector(\"#id16-0-0\");\n",
              "//# sourceURL=js_ecb628963d"
            ]
          },
          "metadata": {}
        },
        {
          "output_type": "display_data",
          "data": {
            "text/plain": [
              "<IPython.core.display.Javascript object>"
            ],
            "application/javascript": [
              "window[\"240d1278-ae6f-11ed-96d8-0242ac1c000c\"] = google.colab.output.setActiveOutputArea(window[\"240cb8b4-ae6f-11ed-96d8-0242ac1c000c\"]);\n",
              "//# sourceURL=js_b3ff33b4af"
            ]
          },
          "metadata": {}
        },
        {
          "output_type": "display_data",
          "data": {
            "text/plain": [
              "<IPython.core.display.Javascript object>"
            ],
            "application/javascript": [
              "window[\"241e8fd0-ae6f-11ed-96d8-0242ac1c000c\"] = google.colab.output.setActiveOutputArea(window[\"240c685a-ae6f-11ed-96d8-0242ac1c000c\"]);\n",
              "//# sourceURL=js_537b5a7cac"
            ]
          },
          "metadata": {}
        },
        {
          "output_type": "display_data",
          "data": {
            "text/plain": [
              "<IPython.core.display.Javascript object>"
            ],
            "application/javascript": [
              "window[\"2a17f93a-ae6f-11ed-96d8-0242ac1c000c\"] = google.colab.output.getActiveOutputArea();\n",
              "//# sourceURL=js_5d79cd9cdc"
            ]
          },
          "metadata": {}
        },
        {
          "output_type": "display_data",
          "data": {
            "text/plain": [
              "<IPython.core.display.Javascript object>"
            ],
            "application/javascript": [
              "window[\"2a186546-ae6f-11ed-96d8-0242ac1c000c\"] = document.querySelector(\"#id16-0-0\");\n",
              "//# sourceURL=js_7d2ba07b89"
            ]
          },
          "metadata": {}
        },
        {
          "output_type": "display_data",
          "data": {
            "text/plain": [
              "<IPython.core.display.Javascript object>"
            ],
            "application/javascript": [
              "window[\"2a18cd74-ae6f-11ed-96d8-0242ac1c000c\"] = google.colab.output.setActiveOutputArea(window[\"2a186546-ae6f-11ed-96d8-0242ac1c000c\"]);\n",
              "//# sourceURL=js_4994354232"
            ]
          },
          "metadata": {}
        },
        {
          "output_type": "display_data",
          "data": {
            "text/plain": [
              "<IPython.core.display.Javascript object>"
            ],
            "application/javascript": [
              "window[\"2a2dcba2-ae6f-11ed-96d8-0242ac1c000c\"] = google.colab.output.setActiveOutputArea(window[\"2a17f93a-ae6f-11ed-96d8-0242ac1c000c\"]);\n",
              "//# sourceURL=js_cb430bb260"
            ]
          },
          "metadata": {}
        },
        {
          "output_type": "display_data",
          "data": {
            "text/plain": [
              "<IPython.core.display.Javascript object>"
            ],
            "application/javascript": [
              "window[\"3027857a-ae6f-11ed-96d8-0242ac1c000c\"] = google.colab.output.getActiveOutputArea();\n",
              "//# sourceURL=js_e9ca9db078"
            ]
          },
          "metadata": {}
        },
        {
          "output_type": "display_data",
          "data": {
            "text/plain": [
              "<IPython.core.display.Javascript object>"
            ],
            "application/javascript": [
              "window[\"30280f40-ae6f-11ed-96d8-0242ac1c000c\"] = document.querySelector(\"#id16-0-0\");\n",
              "//# sourceURL=js_5193455748"
            ]
          },
          "metadata": {}
        },
        {
          "output_type": "display_data",
          "data": {
            "text/plain": [
              "<IPython.core.display.Javascript object>"
            ],
            "application/javascript": [
              "window[\"3028c386-ae6f-11ed-96d8-0242ac1c000c\"] = google.colab.output.setActiveOutputArea(window[\"30280f40-ae6f-11ed-96d8-0242ac1c000c\"]);\n",
              "//# sourceURL=js_c297000594"
            ]
          },
          "metadata": {}
        },
        {
          "output_type": "display_data",
          "data": {
            "text/plain": [
              "<IPython.core.display.Javascript object>"
            ],
            "application/javascript": [
              "window[\"3043cd52-ae6f-11ed-96d8-0242ac1c000c\"] = google.colab.output.setActiveOutputArea(window[\"3027857a-ae6f-11ed-96d8-0242ac1c000c\"]);\n",
              "//# sourceURL=js_f4a81f48ee"
            ]
          },
          "metadata": {}
        },
        {
          "output_type": "display_data",
          "data": {
            "text/plain": [
              "<IPython.core.display.Javascript object>"
            ],
            "application/javascript": [
              "window[\"363e15b4-ae6f-11ed-96d8-0242ac1c000c\"] = google.colab.output.getActiveOutputArea();\n",
              "//# sourceURL=js_fc5b179a60"
            ]
          },
          "metadata": {}
        },
        {
          "output_type": "display_data",
          "data": {
            "text/plain": [
              "<IPython.core.display.Javascript object>"
            ],
            "application/javascript": [
              "window[\"363e6bea-ae6f-11ed-96d8-0242ac1c000c\"] = document.querySelector(\"#id16-0-0\");\n",
              "//# sourceURL=js_2dfe24662e"
            ]
          },
          "metadata": {}
        },
        {
          "output_type": "display_data",
          "data": {
            "text/plain": [
              "<IPython.core.display.Javascript object>"
            ],
            "application/javascript": [
              "window[\"363edac6-ae6f-11ed-96d8-0242ac1c000c\"] = google.colab.output.setActiveOutputArea(window[\"363e6bea-ae6f-11ed-96d8-0242ac1c000c\"]);\n",
              "//# sourceURL=js_a0e081698d"
            ]
          },
          "metadata": {}
        },
        {
          "output_type": "display_data",
          "data": {
            "text/plain": [
              "<IPython.core.display.Javascript object>"
            ],
            "application/javascript": [
              "window[\"3651d36a-ae6f-11ed-96d8-0242ac1c000c\"] = google.colab.output.setActiveOutputArea(window[\"363e15b4-ae6f-11ed-96d8-0242ac1c000c\"]);\n",
              "//# sourceURL=js_135a86f058"
            ]
          },
          "metadata": {}
        },
        {
          "output_type": "display_data",
          "data": {
            "text/plain": [
              "<IPython.core.display.Javascript object>"
            ],
            "application/javascript": [
              "window[\"3c4b4d78-ae6f-11ed-96d8-0242ac1c000c\"] = google.colab.output.getActiveOutputArea();\n",
              "//# sourceURL=js_cad8c98113"
            ]
          },
          "metadata": {}
        },
        {
          "output_type": "display_data",
          "data": {
            "text/plain": [
              "<IPython.core.display.Javascript object>"
            ],
            "application/javascript": [
              "window[\"3c4bca46-ae6f-11ed-96d8-0242ac1c000c\"] = document.querySelector(\"#id16-0-0\");\n",
              "//# sourceURL=js_524c167009"
            ]
          },
          "metadata": {}
        },
        {
          "output_type": "display_data",
          "data": {
            "text/plain": [
              "<IPython.core.display.Javascript object>"
            ],
            "application/javascript": [
              "window[\"3c4c3080-ae6f-11ed-96d8-0242ac1c000c\"] = google.colab.output.setActiveOutputArea(window[\"3c4bca46-ae6f-11ed-96d8-0242ac1c000c\"]);\n",
              "//# sourceURL=js_57f8ce4cb1"
            ]
          },
          "metadata": {}
        },
        {
          "output_type": "display_data",
          "data": {
            "text/plain": [
              "<IPython.core.display.Javascript object>"
            ],
            "application/javascript": [
              "window[\"3c601aa0-ae6f-11ed-96d8-0242ac1c000c\"] = google.colab.output.setActiveOutputArea(window[\"3c4b4d78-ae6f-11ed-96d8-0242ac1c000c\"]);\n",
              "//# sourceURL=js_367ca5ab01"
            ]
          },
          "metadata": {}
        },
        {
          "output_type": "display_data",
          "data": {
            "text/plain": [
              "<IPython.core.display.Javascript object>"
            ],
            "application/javascript": [
              "window[\"425980fe-ae6f-11ed-96d8-0242ac1c000c\"] = google.colab.output.getActiveOutputArea();\n",
              "//# sourceURL=js_f69e74cea6"
            ]
          },
          "metadata": {}
        },
        {
          "output_type": "display_data",
          "data": {
            "text/plain": [
              "<IPython.core.display.Javascript object>"
            ],
            "application/javascript": [
              "window[\"4259db76-ae6f-11ed-96d8-0242ac1c000c\"] = document.querySelector(\"#id16-0-0\");\n",
              "//# sourceURL=js_2178d0c9cf"
            ]
          },
          "metadata": {}
        },
        {
          "output_type": "display_data",
          "data": {
            "text/plain": [
              "<IPython.core.display.Javascript object>"
            ],
            "application/javascript": [
              "window[\"425a324c-ae6f-11ed-96d8-0242ac1c000c\"] = google.colab.output.setActiveOutputArea(window[\"4259db76-ae6f-11ed-96d8-0242ac1c000c\"]);\n",
              "//# sourceURL=js_a74d1de6cf"
            ]
          },
          "metadata": {}
        },
        {
          "output_type": "display_data",
          "data": {
            "text/plain": [
              "<IPython.core.display.Javascript object>"
            ],
            "application/javascript": [
              "window[\"426d23de-ae6f-11ed-96d8-0242ac1c000c\"] = google.colab.output.setActiveOutputArea(window[\"425980fe-ae6f-11ed-96d8-0242ac1c000c\"]);\n",
              "//# sourceURL=js_9d11174696"
            ]
          },
          "metadata": {}
        },
        {
          "output_type": "display_data",
          "data": {
            "text/plain": [
              "<IPython.core.display.Javascript object>"
            ],
            "application/javascript": [
              "window[\"48668b2c-ae6f-11ed-96d8-0242ac1c000c\"] = google.colab.output.getActiveOutputArea();\n",
              "//# sourceURL=js_ddd06336b9"
            ]
          },
          "metadata": {}
        },
        {
          "output_type": "display_data",
          "data": {
            "text/plain": [
              "<IPython.core.display.Javascript object>"
            ],
            "application/javascript": [
              "window[\"4866ec0c-ae6f-11ed-96d8-0242ac1c000c\"] = document.querySelector(\"#id16-0-0\");\n",
              "//# sourceURL=js_0050d80739"
            ]
          },
          "metadata": {}
        },
        {
          "output_type": "display_data",
          "data": {
            "text/plain": [
              "<IPython.core.display.Javascript object>"
            ],
            "application/javascript": [
              "window[\"48672848-ae6f-11ed-96d8-0242ac1c000c\"] = google.colab.output.setActiveOutputArea(window[\"4866ec0c-ae6f-11ed-96d8-0242ac1c000c\"]);\n",
              "//# sourceURL=js_56447c4ee5"
            ]
          },
          "metadata": {}
        },
        {
          "output_type": "display_data",
          "data": {
            "text/plain": [
              "<IPython.core.display.Javascript object>"
            ],
            "application/javascript": [
              "window[\"4899fc14-ae6f-11ed-96d8-0242ac1c000c\"] = google.colab.output.setActiveOutputArea(window[\"48668b2c-ae6f-11ed-96d8-0242ac1c000c\"]);\n",
              "//# sourceURL=js_80009797eb"
            ]
          },
          "metadata": {}
        },
        {
          "output_type": "display_data",
          "data": {
            "text/plain": [
              "<IPython.core.display.Javascript object>"
            ],
            "application/javascript": [
              "window[\"4e942e1e-ae6f-11ed-96d8-0242ac1c000c\"] = google.colab.output.getActiveOutputArea();\n",
              "//# sourceURL=js_bcac5f6b92"
            ]
          },
          "metadata": {}
        },
        {
          "output_type": "display_data",
          "data": {
            "text/plain": [
              "<IPython.core.display.Javascript object>"
            ],
            "application/javascript": [
              "window[\"4e94ef70-ae6f-11ed-96d8-0242ac1c000c\"] = document.querySelector(\"#id16-0-0\");\n",
              "//# sourceURL=js_595ff11b46"
            ]
          },
          "metadata": {}
        },
        {
          "output_type": "display_data",
          "data": {
            "text/plain": [
              "<IPython.core.display.Javascript object>"
            ],
            "application/javascript": [
              "window[\"4e956248-ae6f-11ed-96d8-0242ac1c000c\"] = google.colab.output.setActiveOutputArea(window[\"4e94ef70-ae6f-11ed-96d8-0242ac1c000c\"]);\n",
              "//# sourceURL=js_15334e34e7"
            ]
          },
          "metadata": {}
        },
        {
          "output_type": "display_data",
          "data": {
            "text/plain": [
              "<IPython.core.display.Javascript object>"
            ],
            "application/javascript": [
              "window[\"4ea9c030-ae6f-11ed-96d8-0242ac1c000c\"] = google.colab.output.setActiveOutputArea(window[\"4e942e1e-ae6f-11ed-96d8-0242ac1c000c\"]);\n",
              "//# sourceURL=js_ee3b7beaaa"
            ]
          },
          "metadata": {}
        },
        {
          "output_type": "display_data",
          "data": {
            "text/plain": [
              "<IPython.core.display.Javascript object>"
            ],
            "application/javascript": [
              "window[\"54a3ed6c-ae6f-11ed-96d8-0242ac1c000c\"] = google.colab.output.getActiveOutputArea();\n",
              "//# sourceURL=js_3aa00c44a3"
            ]
          },
          "metadata": {}
        },
        {
          "output_type": "display_data",
          "data": {
            "text/plain": [
              "<IPython.core.display.Javascript object>"
            ],
            "application/javascript": [
              "window[\"54a4f568-ae6f-11ed-96d8-0242ac1c000c\"] = document.querySelector(\"#id16-0-0\");\n",
              "//# sourceURL=js_f2b16705a5"
            ]
          },
          "metadata": {}
        },
        {
          "output_type": "display_data",
          "data": {
            "text/plain": [
              "<IPython.core.display.Javascript object>"
            ],
            "application/javascript": [
              "window[\"54a595a4-ae6f-11ed-96d8-0242ac1c000c\"] = google.colab.output.setActiveOutputArea(window[\"54a4f568-ae6f-11ed-96d8-0242ac1c000c\"]);\n",
              "//# sourceURL=js_09fe4159d3"
            ]
          },
          "metadata": {}
        },
        {
          "output_type": "display_data",
          "data": {
            "text/plain": [
              "<IPython.core.display.Javascript object>"
            ],
            "application/javascript": [
              "window[\"54b74682-ae6f-11ed-96d8-0242ac1c000c\"] = google.colab.output.setActiveOutputArea(window[\"54a3ed6c-ae6f-11ed-96d8-0242ac1c000c\"]);\n",
              "//# sourceURL=js_ebb6bd904f"
            ]
          },
          "metadata": {}
        },
        {
          "output_type": "display_data",
          "data": {
            "text/plain": [
              "<IPython.core.display.Javascript object>"
            ],
            "application/javascript": [
              "window[\"5ab0b53c-ae6f-11ed-96d8-0242ac1c000c\"] = google.colab.output.getActiveOutputArea();\n",
              "//# sourceURL=js_3f8ea2aeee"
            ]
          },
          "metadata": {}
        },
        {
          "output_type": "display_data",
          "data": {
            "text/plain": [
              "<IPython.core.display.Javascript object>"
            ],
            "application/javascript": [
              "window[\"5ab10a32-ae6f-11ed-96d8-0242ac1c000c\"] = document.querySelector(\"#id16-0-0\");\n",
              "//# sourceURL=js_0ee22b5c9b"
            ]
          },
          "metadata": {}
        },
        {
          "output_type": "display_data",
          "data": {
            "text/plain": [
              "<IPython.core.display.Javascript object>"
            ],
            "application/javascript": [
              "window[\"5ab15eec-ae6f-11ed-96d8-0242ac1c000c\"] = google.colab.output.setActiveOutputArea(window[\"5ab10a32-ae6f-11ed-96d8-0242ac1c000c\"]);\n",
              "//# sourceURL=js_44034938e8"
            ]
          },
          "metadata": {}
        },
        {
          "output_type": "display_data",
          "data": {
            "text/plain": [
              "<IPython.core.display.Javascript object>"
            ],
            "application/javascript": [
              "window[\"5ac4bf64-ae6f-11ed-96d8-0242ac1c000c\"] = google.colab.output.setActiveOutputArea(window[\"5ab0b53c-ae6f-11ed-96d8-0242ac1c000c\"]);\n",
              "//# sourceURL=js_20b4bb827c"
            ]
          },
          "metadata": {}
        },
        {
          "output_type": "display_data",
          "data": {
            "text/plain": [
              "<IPython.core.display.Javascript object>"
            ],
            "application/javascript": [
              "window[\"60beb410-ae6f-11ed-96d8-0242ac1c000c\"] = google.colab.output.getActiveOutputArea();\n",
              "//# sourceURL=js_557d30456c"
            ]
          },
          "metadata": {}
        },
        {
          "output_type": "display_data",
          "data": {
            "text/plain": [
              "<IPython.core.display.Javascript object>"
            ],
            "application/javascript": [
              "window[\"60bf1838-ae6f-11ed-96d8-0242ac1c000c\"] = document.querySelector(\"#id16-0-0\");\n",
              "//# sourceURL=js_70d564eec9"
            ]
          },
          "metadata": {}
        },
        {
          "output_type": "display_data",
          "data": {
            "text/plain": [
              "<IPython.core.display.Javascript object>"
            ],
            "application/javascript": [
              "window[\"60bf6dba-ae6f-11ed-96d8-0242ac1c000c\"] = google.colab.output.setActiveOutputArea(window[\"60bf1838-ae6f-11ed-96d8-0242ac1c000c\"]);\n",
              "//# sourceURL=js_048728b111"
            ]
          },
          "metadata": {}
        },
        {
          "output_type": "display_data",
          "data": {
            "text/plain": [
              "<IPython.core.display.Javascript object>"
            ],
            "application/javascript": [
              "window[\"60d218f2-ae6f-11ed-96d8-0242ac1c000c\"] = google.colab.output.setActiveOutputArea(window[\"60beb410-ae6f-11ed-96d8-0242ac1c000c\"]);\n",
              "//# sourceURL=js_36d69da8e4"
            ]
          },
          "metadata": {}
        },
        {
          "output_type": "display_data",
          "data": {
            "text/plain": [
              "<IPython.core.display.Javascript object>"
            ],
            "application/javascript": [
              "window[\"66cb76ae-ae6f-11ed-96d8-0242ac1c000c\"] = google.colab.output.getActiveOutputArea();\n",
              "//# sourceURL=js_891c856dd1"
            ]
          },
          "metadata": {}
        },
        {
          "output_type": "display_data",
          "data": {
            "text/plain": [
              "<IPython.core.display.Javascript object>"
            ],
            "application/javascript": [
              "window[\"66cbe062-ae6f-11ed-96d8-0242ac1c000c\"] = document.querySelector(\"#id16-0-0\");\n",
              "//# sourceURL=js_5f2fc41e32"
            ]
          },
          "metadata": {}
        },
        {
          "output_type": "display_data",
          "data": {
            "text/plain": [
              "<IPython.core.display.Javascript object>"
            ],
            "application/javascript": [
              "window[\"66cc28d8-ae6f-11ed-96d8-0242ac1c000c\"] = google.colab.output.setActiveOutputArea(window[\"66cbe062-ae6f-11ed-96d8-0242ac1c000c\"]);\n",
              "//# sourceURL=js_65febb1d79"
            ]
          },
          "metadata": {}
        },
        {
          "output_type": "display_data",
          "data": {
            "text/plain": [
              "<IPython.core.display.Javascript object>"
            ],
            "application/javascript": [
              "window[\"66dee75c-ae6f-11ed-96d8-0242ac1c000c\"] = google.colab.output.setActiveOutputArea(window[\"66cb76ae-ae6f-11ed-96d8-0242ac1c000c\"]);\n",
              "//# sourceURL=js_53043dfb26"
            ]
          },
          "metadata": {}
        },
        {
          "output_type": "display_data",
          "data": {
            "text/plain": [
              "<IPython.core.display.Javascript object>"
            ],
            "application/javascript": [
              "window[\"6cd849aa-ae6f-11ed-96d8-0242ac1c000c\"] = google.colab.output.getActiveOutputArea();\n",
              "//# sourceURL=js_94dfd1335a"
            ]
          },
          "metadata": {}
        },
        {
          "output_type": "display_data",
          "data": {
            "text/plain": [
              "<IPython.core.display.Javascript object>"
            ],
            "application/javascript": [
              "window[\"6cd8d67c-ae6f-11ed-96d8-0242ac1c000c\"] = document.querySelector(\"#id16-0-0\");\n",
              "//# sourceURL=js_1a6418fec4"
            ]
          },
          "metadata": {}
        },
        {
          "output_type": "display_data",
          "data": {
            "text/plain": [
              "<IPython.core.display.Javascript object>"
            ],
            "application/javascript": [
              "window[\"6cd93d6a-ae6f-11ed-96d8-0242ac1c000c\"] = google.colab.output.setActiveOutputArea(window[\"6cd8d67c-ae6f-11ed-96d8-0242ac1c000c\"]);\n",
              "//# sourceURL=js_7932d88dd4"
            ]
          },
          "metadata": {}
        },
        {
          "output_type": "display_data",
          "data": {
            "text/plain": [
              "<IPython.core.display.Javascript object>"
            ],
            "application/javascript": [
              "window[\"6cf25476-ae6f-11ed-96d8-0242ac1c000c\"] = google.colab.output.setActiveOutputArea(window[\"6cd849aa-ae6f-11ed-96d8-0242ac1c000c\"]);\n",
              "//# sourceURL=js_58eac3c57e"
            ]
          },
          "metadata": {}
        },
        {
          "output_type": "display_data",
          "data": {
            "text/plain": [
              "<IPython.core.display.Javascript object>"
            ],
            "application/javascript": [
              "window[\"72eaab12-ae6f-11ed-96d8-0242ac1c000c\"] = google.colab.output.getActiveOutputArea();\n",
              "//# sourceURL=js_6994e08942"
            ]
          },
          "metadata": {}
        },
        {
          "output_type": "display_data",
          "data": {
            "text/plain": [
              "<IPython.core.display.Javascript object>"
            ],
            "application/javascript": [
              "window[\"72eaedb6-ae6f-11ed-96d8-0242ac1c000c\"] = document.querySelector(\"#id16-0-0\");\n",
              "//# sourceURL=js_d2c8c50ede"
            ]
          },
          "metadata": {}
        },
        {
          "output_type": "display_data",
          "data": {
            "text/plain": [
              "<IPython.core.display.Javascript object>"
            ],
            "application/javascript": [
              "window[\"72eb9c52-ae6f-11ed-96d8-0242ac1c000c\"] = google.colab.output.setActiveOutputArea(window[\"72eaedb6-ae6f-11ed-96d8-0242ac1c000c\"]);\n",
              "//# sourceURL=js_2fc30be710"
            ]
          },
          "metadata": {}
        },
        {
          "output_type": "display_data",
          "data": {
            "text/plain": [
              "<IPython.core.display.Javascript object>"
            ],
            "application/javascript": [
              "window[\"72fdc1d4-ae6f-11ed-96d8-0242ac1c000c\"] = google.colab.output.setActiveOutputArea(window[\"72eaab12-ae6f-11ed-96d8-0242ac1c000c\"]);\n",
              "//# sourceURL=js_95a1ae00c3"
            ]
          },
          "metadata": {}
        },
        {
          "output_type": "display_data",
          "data": {
            "text/plain": [
              "<IPython.core.display.Javascript object>"
            ],
            "application/javascript": [
              "window[\"78f7ae92-ae6f-11ed-96d8-0242ac1c000c\"] = google.colab.output.getActiveOutputArea();\n",
              "//# sourceURL=js_3b19426a06"
            ]
          },
          "metadata": {}
        },
        {
          "output_type": "display_data",
          "data": {
            "text/plain": [
              "<IPython.core.display.Javascript object>"
            ],
            "application/javascript": [
              "window[\"78f80a86-ae6f-11ed-96d8-0242ac1c000c\"] = document.querySelector(\"#id16-0-0\");\n",
              "//# sourceURL=js_05bb1cb0f8"
            ]
          },
          "metadata": {}
        },
        {
          "output_type": "display_data",
          "data": {
            "text/plain": [
              "<IPython.core.display.Javascript object>"
            ],
            "application/javascript": [
              "window[\"78f87c50-ae6f-11ed-96d8-0242ac1c000c\"] = google.colab.output.setActiveOutputArea(window[\"78f80a86-ae6f-11ed-96d8-0242ac1c000c\"]);\n",
              "//# sourceURL=js_276be8b0ca"
            ]
          },
          "metadata": {}
        },
        {
          "output_type": "display_data",
          "data": {
            "text/plain": [
              "<IPython.core.display.Javascript object>"
            ],
            "application/javascript": [
              "window[\"790bbae0-ae6f-11ed-96d8-0242ac1c000c\"] = google.colab.output.setActiveOutputArea(window[\"78f7ae92-ae6f-11ed-96d8-0242ac1c000c\"]);\n",
              "//# sourceURL=js_3cc7b13561"
            ]
          },
          "metadata": {}
        },
        {
          "output_type": "display_data",
          "data": {
            "text/plain": [
              "<IPython.core.display.Javascript object>"
            ],
            "application/javascript": [
              "window[\"7f0551c2-ae6f-11ed-96d8-0242ac1c000c\"] = google.colab.output.getActiveOutputArea();\n",
              "//# sourceURL=js_c63f0fe635"
            ]
          },
          "metadata": {}
        },
        {
          "output_type": "display_data",
          "data": {
            "text/plain": [
              "<IPython.core.display.Javascript object>"
            ],
            "application/javascript": [
              "window[\"7f05cc2e-ae6f-11ed-96d8-0242ac1c000c\"] = document.querySelector(\"#id16-0-0\");\n",
              "//# sourceURL=js_8b62330497"
            ]
          },
          "metadata": {}
        },
        {
          "output_type": "display_data",
          "data": {
            "text/plain": [
              "<IPython.core.display.Javascript object>"
            ],
            "application/javascript": [
              "window[\"7f063a92-ae6f-11ed-96d8-0242ac1c000c\"] = google.colab.output.setActiveOutputArea(window[\"7f05cc2e-ae6f-11ed-96d8-0242ac1c000c\"]);\n",
              "//# sourceURL=js_89db926d99"
            ]
          },
          "metadata": {}
        },
        {
          "output_type": "display_data",
          "data": {
            "text/plain": [
              "<IPython.core.display.Javascript object>"
            ],
            "application/javascript": [
              "window[\"7f1a2980-ae6f-11ed-96d8-0242ac1c000c\"] = google.colab.output.setActiveOutputArea(window[\"7f0551c2-ae6f-11ed-96d8-0242ac1c000c\"]);\n",
              "//# sourceURL=js_c3b6a2fba5"
            ]
          },
          "metadata": {}
        },
        {
          "output_type": "display_data",
          "data": {
            "text/plain": [
              "<IPython.core.display.Javascript object>"
            ],
            "application/javascript": [
              "window[\"851387be-ae6f-11ed-96d8-0242ac1c000c\"] = google.colab.output.getActiveOutputArea();\n",
              "//# sourceURL=js_bfe4deee1e"
            ]
          },
          "metadata": {}
        },
        {
          "output_type": "display_data",
          "data": {
            "text/plain": [
              "<IPython.core.display.Javascript object>"
            ],
            "application/javascript": [
              "window[\"8513da84-ae6f-11ed-96d8-0242ac1c000c\"] = document.querySelector(\"#id16-0-0\");\n",
              "//# sourceURL=js_a12676a5c7"
            ]
          },
          "metadata": {}
        },
        {
          "output_type": "display_data",
          "data": {
            "text/plain": [
              "<IPython.core.display.Javascript object>"
            ],
            "application/javascript": [
              "window[\"851432ae-ae6f-11ed-96d8-0242ac1c000c\"] = google.colab.output.setActiveOutputArea(window[\"8513da84-ae6f-11ed-96d8-0242ac1c000c\"]);\n",
              "//# sourceURL=js_0eec0af7a5"
            ]
          },
          "metadata": {}
        },
        {
          "output_type": "display_data",
          "data": {
            "text/plain": [
              "<Figure size 432x288 with 1 Axes>"
            ],
            "image/png": "[encoded data removed]"
          },
          "metadata": {
            "needs_background": "light"
          }
        },
        {
          "output_type": "display_data",
          "data": {
            "text/plain": [
              "<IPython.core.display.Javascript object>"
            ],
            "application/javascript": [
              "window[\"85283d1c-ae6f-11ed-96d8-0242ac1c000c\"] = google.colab.output.setActiveOutputArea(window[\"851387be-ae6f-11ed-96d8-0242ac1c000c\"]);\n",
              "//# sourceURL=js_c3a36efd46"
            ]
          },
          "metadata": {}
        }
      ]
    },
    {
      "cell_type": "code",
      "source": [],
      "metadata": {
        "id": "TAFmgYvkNLBj"
      },
      "execution_count": 1,
      "outputs": []
    }
  ]
}